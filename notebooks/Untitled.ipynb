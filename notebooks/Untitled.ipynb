{
 "cells": [
  {
   "cell_type": "code",
   "execution_count": 6,
   "id": "77c3808a",
   "metadata": {},
   "outputs": [],
   "source": [
    "import pandas as pd\n",
    "from src.utils.constants import NUM_COLS, CAT_COLS, TARGET, PREDICTION\n",
    "from evidently import ColumnMapping"
   ]
  },
  {
   "cell_type": "code",
   "execution_count": 2,
   "id": "faafc06b",
   "metadata": {},
   "outputs": [],
   "source": [
    "current = pd.read_csv('/home/taras/mlopszoomcamp_finalproject/data/raw/heart_stroke_2023-08-10.csv')\n",
    "initial = pd.read_csv('/home/taras/mlopszoomcamp_finalproject/data/raw/initial_heart_stroke_data.csv')                       "
   ]
  },
  {
   "cell_type": "code",
   "execution_count": 11,
   "id": "0579335f",
   "metadata": {},
   "outputs": [],
   "source": [
    "from evidently.test_suite import TestSuite\n",
    "from evidently.test_preset import DataDriftTestPreset, BinaryClassificationTestPreset"
   ]
  },
  {
   "cell_type": "code",
   "execution_count": 7,
   "id": "3e59488b",
   "metadata": {},
   "outputs": [],
   "source": [
    "COLUMN_MAPPING = ColumnMapping(\n",
    "    prediction=PREDICTION,\n",
    "    numerical_features=NUM_COLS,\n",
    "    categorical_features=CAT_COLS,\n",
    "    target=TARGET,\n",
    ")\n"
   ]
  },
  {
   "cell_type": "code",
   "execution_count": 9,
   "id": "88d54d7d",
   "metadata": {},
   "outputs": [],
   "source": [
    "test_suite = TestSuite(tests = [DataDriftTestPreset()])\n",
    "test_suite.run(reference_data=initial, current_data=current, column_mapping=COLUMN_MAPPING)"
   ]
  },
  {
   "cell_type": "code",
   "execution_count": 10,
   "id": "8b65e4c6",
   "metadata": {},
   "outputs": [
    {
     "data": {
      "text/plain": [
       "{'tests': [{'name': 'Share of Drifted Columns',\n",
       "   'description': 'The drift is detected for 0% features (0 out of 11). The test threshold is lt=0.3',\n",
       "   'status': 'SUCCESS',\n",
       "   'group': 'data_drift',\n",
       "   'parameters': {'condition': {'lt': 0.3},\n",
       "    'features': {'stroke': {'stattest': 'Jensen-Shannon distance',\n",
       "      'score': 0.0,\n",
       "      'threshold': 0.1,\n",
       "      'detected': False},\n",
       "     'age': {'stattest': 'Wasserstein distance (normed)',\n",
       "      'score': 0.0,\n",
       "      'threshold': 0.1,\n",
       "      'detected': False},\n",
       "     'avg_glucose_level': {'stattest': 'Wasserstein distance (normed)',\n",
       "      'score': 0.0,\n",
       "      'threshold': 0.1,\n",
       "      'detected': False},\n",
       "     'bmi': {'stattest': 'Wasserstein distance (normed)',\n",
       "      'score': 0.0,\n",
       "      'threshold': 0.1,\n",
       "      'detected': False},\n",
       "     'gender': {'stattest': 'Jensen-Shannon distance',\n",
       "      'score': 0.0,\n",
       "      'threshold': 0.1,\n",
       "      'detected': False},\n",
       "     'hypertension': {'stattest': 'Jensen-Shannon distance',\n",
       "      'score': 0.0,\n",
       "      'threshold': 0.1,\n",
       "      'detected': False},\n",
       "     'heart_disease': {'stattest': 'Jensen-Shannon distance',\n",
       "      'score': 0.0,\n",
       "      'threshold': 0.1,\n",
       "      'detected': False},\n",
       "     'ever_married': {'stattest': 'Jensen-Shannon distance',\n",
       "      'score': 0.0,\n",
       "      'threshold': 0.1,\n",
       "      'detected': False},\n",
       "     'work_type': {'stattest': 'Jensen-Shannon distance',\n",
       "      'score': 0.0,\n",
       "      'threshold': 0.1,\n",
       "      'detected': False},\n",
       "     'Residence_type': {'stattest': 'Jensen-Shannon distance',\n",
       "      'score': 0.0,\n",
       "      'threshold': 0.1,\n",
       "      'detected': False},\n",
       "     'smoking_status': {'stattest': 'Jensen-Shannon distance',\n",
       "      'score': 0.0,\n",
       "      'threshold': 0.1,\n",
       "      'detected': False}}}},\n",
       "  {'name': 'Drift per Column',\n",
       "   'description': 'The drift score for the feature **stroke** is 0. The drift detection method is Jensen-Shannon distance. The drift detection threshold is 0.1.',\n",
       "   'status': 'SUCCESS',\n",
       "   'group': 'data_drift',\n",
       "   'parameters': {'stattest': 'Jensen-Shannon distance',\n",
       "    'score': 0.0,\n",
       "    'threshold': 0.1,\n",
       "    'detected': False,\n",
       "    'column_name': 'stroke'}},\n",
       "  {'name': 'Drift per Column',\n",
       "   'description': 'The drift score for the feature **gender** is 0. The drift detection method is Jensen-Shannon distance. The drift detection threshold is 0.1.',\n",
       "   'status': 'SUCCESS',\n",
       "   'group': 'data_drift',\n",
       "   'parameters': {'stattest': 'Jensen-Shannon distance',\n",
       "    'score': 0.0,\n",
       "    'threshold': 0.1,\n",
       "    'detected': False,\n",
       "    'column_name': 'gender'}},\n",
       "  {'name': 'Drift per Column',\n",
       "   'description': 'The drift score for the feature **hypertension** is 0. The drift detection method is Jensen-Shannon distance. The drift detection threshold is 0.1.',\n",
       "   'status': 'SUCCESS',\n",
       "   'group': 'data_drift',\n",
       "   'parameters': {'stattest': 'Jensen-Shannon distance',\n",
       "    'score': 0.0,\n",
       "    'threshold': 0.1,\n",
       "    'detected': False,\n",
       "    'column_name': 'hypertension'}},\n",
       "  {'name': 'Drift per Column',\n",
       "   'description': 'The drift score for the feature **heart_disease** is 0. The drift detection method is Jensen-Shannon distance. The drift detection threshold is 0.1.',\n",
       "   'status': 'SUCCESS',\n",
       "   'group': 'data_drift',\n",
       "   'parameters': {'stattest': 'Jensen-Shannon distance',\n",
       "    'score': 0.0,\n",
       "    'threshold': 0.1,\n",
       "    'detected': False,\n",
       "    'column_name': 'heart_disease'}},\n",
       "  {'name': 'Drift per Column',\n",
       "   'description': 'The drift score for the feature **ever_married** is 0. The drift detection method is Jensen-Shannon distance. The drift detection threshold is 0.1.',\n",
       "   'status': 'SUCCESS',\n",
       "   'group': 'data_drift',\n",
       "   'parameters': {'stattest': 'Jensen-Shannon distance',\n",
       "    'score': 0.0,\n",
       "    'threshold': 0.1,\n",
       "    'detected': False,\n",
       "    'column_name': 'ever_married'}},\n",
       "  {'name': 'Drift per Column',\n",
       "   'description': 'The drift score for the feature **work_type** is 0. The drift detection method is Jensen-Shannon distance. The drift detection threshold is 0.1.',\n",
       "   'status': 'SUCCESS',\n",
       "   'group': 'data_drift',\n",
       "   'parameters': {'stattest': 'Jensen-Shannon distance',\n",
       "    'score': 0.0,\n",
       "    'threshold': 0.1,\n",
       "    'detected': False,\n",
       "    'column_name': 'work_type'}},\n",
       "  {'name': 'Drift per Column',\n",
       "   'description': 'The drift score for the feature **Residence_type** is 0. The drift detection method is Jensen-Shannon distance. The drift detection threshold is 0.1.',\n",
       "   'status': 'SUCCESS',\n",
       "   'group': 'data_drift',\n",
       "   'parameters': {'stattest': 'Jensen-Shannon distance',\n",
       "    'score': 0.0,\n",
       "    'threshold': 0.1,\n",
       "    'detected': False,\n",
       "    'column_name': 'Residence_type'}},\n",
       "  {'name': 'Drift per Column',\n",
       "   'description': 'The drift score for the feature **smoking_status** is 0. The drift detection method is Jensen-Shannon distance. The drift detection threshold is 0.1.',\n",
       "   'status': 'SUCCESS',\n",
       "   'group': 'data_drift',\n",
       "   'parameters': {'stattest': 'Jensen-Shannon distance',\n",
       "    'score': 0.0,\n",
       "    'threshold': 0.1,\n",
       "    'detected': False,\n",
       "    'column_name': 'smoking_status'}},\n",
       "  {'name': 'Drift per Column',\n",
       "   'description': 'The drift score for the feature **age** is 0. The drift detection method is Wasserstein distance (normed). The drift detection threshold is 0.1.',\n",
       "   'status': 'SUCCESS',\n",
       "   'group': 'data_drift',\n",
       "   'parameters': {'stattest': 'Wasserstein distance (normed)',\n",
       "    'score': 0.0,\n",
       "    'threshold': 0.1,\n",
       "    'detected': False,\n",
       "    'column_name': 'age'}},\n",
       "  {'name': 'Drift per Column',\n",
       "   'description': 'The drift score for the feature **avg_glucose_level** is 0. The drift detection method is Wasserstein distance (normed). The drift detection threshold is 0.1.',\n",
       "   'status': 'SUCCESS',\n",
       "   'group': 'data_drift',\n",
       "   'parameters': {'stattest': 'Wasserstein distance (normed)',\n",
       "    'score': 0.0,\n",
       "    'threshold': 0.1,\n",
       "    'detected': False,\n",
       "    'column_name': 'avg_glucose_level'}},\n",
       "  {'name': 'Drift per Column',\n",
       "   'description': 'The drift score for the feature **bmi** is 0. The drift detection method is Wasserstein distance (normed). The drift detection threshold is 0.1.',\n",
       "   'status': 'SUCCESS',\n",
       "   'group': 'data_drift',\n",
       "   'parameters': {'stattest': 'Wasserstein distance (normed)',\n",
       "    'score': 0.0,\n",
       "    'threshold': 0.1,\n",
       "    'detected': False,\n",
       "    'column_name': 'bmi'}}],\n",
       " 'summary': {'all_passed': True,\n",
       "  'total_tests': 12,\n",
       "  'success_tests': 12,\n",
       "  'failed_tests': 0,\n",
       "  'by_status': {'SUCCESS': 12}}}"
      ]
     },
     "execution_count": 10,
     "metadata": {},
     "output_type": "execute_result"
    }
   ],
   "source": [
    "test_suite.as_dict()"
   ]
  },
  {
   "cell_type": "code",
   "execution_count": 12,
   "id": "026f48af",
   "metadata": {},
   "outputs": [],
   "source": [
    "new_test = TestSuite(tests = [BinaryClassificationTestPreset()]) "
   ]
  },
  {
   "cell_type": "code",
   "execution_count": 19,
   "id": "58228ee8",
   "metadata": {},
   "outputs": [],
   "source": [
    "new_test.run(reference_data=initial, current_data=current, column_mapping=COLUMN_MAPPING)"
   ]
  },
  {
   "cell_type": "code",
   "execution_count": 22,
   "id": "0be3bc79",
   "metadata": {},
   "outputs": [
    {
     "data": {
      "text/plain": [
       "False"
      ]
     },
     "execution_count": 22,
     "metadata": {},
     "output_type": "execute_result"
    }
   ],
   "source": [
    "new_test.as_dict()['summary']['all_passed']"
   ]
  },
  {
   "cell_type": "code",
   "execution_count": 17,
   "id": "87f6f3f8",
   "metadata": {},
   "outputs": [],
   "source": [
    "initial[PREDICTION] = [1]*20+[0]*(len(initial)-20)"
   ]
  },
  {
   "cell_type": "code",
   "execution_count": 18,
   "id": "8fd66d88",
   "metadata": {},
   "outputs": [],
   "source": [
    "current[PREDICTION] = [1]*30+[0]*(len(initial)-30)"
   ]
  },
  {
   "cell_type": "code",
   "execution_count": null,
   "id": "d67355de",
   "metadata": {},
   "outputs": [],
   "source": []
  }
 ],
 "metadata": {
  "kernelspec": {
   "display_name": "zoom",
   "language": "python",
   "name": "zoom"
  },
  "language_info": {
   "codemirror_mode": {
    "name": "ipython",
    "version": 3
   },
   "file_extension": ".py",
   "mimetype": "text/x-python",
   "name": "python",
   "nbconvert_exporter": "python",
   "pygments_lexer": "ipython3",
   "version": "3.9.16"
  }
 },
 "nbformat": 4,
 "nbformat_minor": 5
}
